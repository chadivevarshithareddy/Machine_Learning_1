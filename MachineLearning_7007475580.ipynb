{
 "cells": [
  {
   "cell_type": "code",
   "execution_count": 2,
   "id": "2262afc9",
   "metadata": {
    "scrolled": true
   },
   "outputs": [
    {
     "name": "stdout",
     "output_type": "stream",
     "text": [
      "sorted list =  [19, 19, 20, 22, 24, 24, 24, 25, 25, 26]\n",
      "max age:26, min age:19\n",
      "added list: [19, 19, 20, 22, 24, 24, 24, 25, 25, 26, 19, 26]\n",
      "6\n",
      "The median of ages: 24\n",
      "average age is: 22.75\n",
      "Range of the ages: 7\n"
     ]
    }
   ],
   "source": [
    "#Question 1\n",
    "\n",
    "ages =  [19, 22, 19, 24, 20, 25, 26, 24, 25, 24] ##creating a list\n",
    "\n",
    "ages.sort() #sorting\n",
    "print(\"sorted list = \", ages)\n",
    "\n",
    "print(f\"max age:{max(ages)}, min age:{min(ages)}\") #min and max age\n",
    "ages.extend([min(ages),max(ages)]) #adding min and max ages\n",
    "print(f\"added list: {ages}\") # list after addition\n",
    "\n",
    "m = int(len(ages)/2) # middle index in the list\n",
    "print(m)\n",
    "if m % 2 == 0:   #find if its even\n",
    " print(f\"The median of ages: {int((ages[m-1]  + ages[m])/ 2)}\") #median age\n",
    "\n",
    "print(f\"average age is: {sum(ages)/len(ages)}\")      #average age\n",
    "\n",
    "print(f\"Range of the ages: {max(ages) - min(ages)}\") # range \n",
    "\n",
    "\n"
   ]
  },
  {
   "cell_type": "code",
   "execution_count": 3,
   "id": "d8722a99",
   "metadata": {},
   "outputs": [
    {
     "name": "stdout",
     "output_type": "stream",
     "text": [
      "length of student: 9\n",
      "<class 'list'>\n",
      "['Developer', 'Creativity', 'communication']\n",
      "keys of student dictionary:dict_keys(['first_name', 'last_name', 'gender', 'age', 'martial status', 'skills', 'country', 'city', 'address'])\n",
      "values of student dictionary: dict_values(['varshitha', 'chadive', 'female', '21', 'single', ['Developer', 'Creativity', 'communication'], 'india', 'hyderabad', 'kothapet'])\n"
     ]
    }
   ],
   "source": [
    "#Question 2\n",
    "\n",
    "dog = {} #empty dictionary\n",
    "dog = {\"name\":\"browny\", \"color\":\"brown\", \"bread\":\"pomerian\", \"legs\":\"4\", \"age\":\"1\"} #adding key values\n",
    "\n",
    "#student dictionary\n",
    "student= {} \n",
    "student= {\"first_name\":\"varshitha\",\"last_name\":\"chadive\",\"gender\":\"female\",\"age\":\"21\",\"martial status\":\"single\",\n",
    "           \"skills\":['Developer'],\"country\":\"india\",\"city\":\"hyderabad\",\"address\":\"kothapet\"} #adding key values\n",
    "\n",
    "print(f\"length of student: {len(student)}\") # lenght of student dictionary\n",
    "\n",
    "print(type(student['skills']))         #values in skills and type of date   \n",
    "\n",
    "student['skills'].extend(['Creativity', 'communication']) #modifying skills\n",
    "print(student['skills'])\n",
    "\n",
    "print(f\"keys of student dictionary:{student.keys()}\")   #dictionary keys as list\n",
    "\n",
    "print(f\"values of student dictionary: {student.values()}\") #dictionary keys as values\n",
    "\n",
    "      "
   ]
  },
  {
   "cell_type": "code",
   "execution_count": 4,
   "id": "e206f392",
   "metadata": {},
   "outputs": [
    {
     "name": "stdout",
     "output_type": "stream",
     "text": [
      "no of siblings: 8\n",
      "('koushik', 'dinesh', 'satya', 'Shiva', 'keerthi', 'preethi', 'neha', 'sindhu')\n",
      "type:  <class 'tuple'>\n",
      "family member: \n",
      "('koushik', 'dinesh', 'satya', 'Shiva', 'keerthi', 'preethi', 'neha', 'sindhu', 'kamalnath', 'anitha')\n"
     ]
    }
   ],
   "source": [
    "#Question:3\n",
    "\n",
    "brothers = (\"koushik\", \"dinesh\", \"satya\", \"Shiva\")    #brothers tuple\n",
    "sisters = (\"keerthi\", \"preethi\", \"neha\", \"sindhu\")  #sisters tuple\n",
    "siblings = brothers+sisters                           #siblings tuple by adding\n",
    "print(f\"no of siblings: {len(siblings)}\")             #number of siblings\n",
    "print(siblings)\n",
    "family_member = ()\n",
    "family_member += siblings + (\"kamalnath\", \"anitha\")  # modifying the siblings tuple by adding family details\n",
    "print(\"type: \",type(family_member))\n",
    "print(\"family member: \")\n",
    "print(family_member)"
   ]
  },
  {
   "cell_type": "code",
   "execution_count": 5,
   "id": "a39290f3",
   "metadata": {},
   "outputs": [
    {
     "name": "stdout",
     "output_type": "stream",
     "text": [
      "length of it_companies:  7\n",
      "add new company:  {'IBM', 'Amazon', 'Microsoft', 'twitter', 'Apple', 'Google', 'Oracle', 'Facebook'}\n",
      "updated it companies: {'accenture', 'infosys', 'Oracle', 'IBM', 'Microsoft', 'Facebook', 'Amazon', 'twitter', 'Apple', 'cognizant', 'Google'}\n",
      "remove it companies: {'infosys', 'Oracle', 'IBM', 'Microsoft', 'Facebook', 'Amazon', 'twitter', 'Apple', 'cognizant', 'Google'}\n",
      "discard it companies: {'Oracle', 'IBM', 'Microsoft', 'Facebook', 'Amazon', 'twitter', 'Apple', 'cognizant', 'Google'}\n",
      "join A union B:{19, 20, 22, 24, 25, 26, 27, 28}\n",
      "join A intersection B:{19, 20, 22, 24, 25, 26}\n",
      "if A is subset of B:True\n",
      "if A is disjoint of B:False\n",
      "{19, 20, 22, 24, 25, 26, 27, 28}\n",
      "{19, 20, 22, 24, 25, 26, 27, 28}\n",
      "symmetric difference:set()\n",
      "deleting both A and B:  None None\n",
      "The length of the list age:8\n",
      "The length of the set age:8\n"
     ]
    }
   ],
   "source": [
    "#Question 4\n",
    "\n",
    "it_companies = {'Facebook', 'Google', 'Microsoft', 'Apple', 'IBM', 'Oracle', 'Amazon'}\n",
    "A = {19, 22, 24, 20, 25, 26}\n",
    "B = {19, 22, 20, 25, 26, 24, 28, 27}\n",
    "age = [22, 19, 24, 25, 26, 24, 25, 24]\n",
    "count = len(it_companies)\n",
    "print(f\"length of it_companies: \", count)                  #length of companies\n",
    "\n",
    "it_companies.add(\"twitter\")                                 #add twitter\n",
    "\n",
    "print(f\"add new company: \", it_companies)\n",
    "it_companies.update(['infosys', 'accenture', 'cognizant'])  # multiple it companies\n",
    "print(f\"updated it companies:\", it_companies)   \n",
    "\n",
    "it_companies.remove('accenture')                           #remove one company(which raises error)\n",
    "print(f\"remove it companies:\", it_companies)\n",
    "\n",
    "it_companies.discard('infosys')                           #discard which doesnt raise an error\n",
    "print(f\"discard it companies:\", it_companies)\n",
    "\n",
    "print(f\"join A union B:{A | B}\")                          # join A and B\n",
    "print(f\"join A intersection B:{A & B}\")                   # A intersection B\n",
    "print(f\"if A is subset of B:{A.issubset(B)}\")             #subset\n",
    "print(f\"if A is disjoint of B:{A.isdisjoint(B)}\")\n",
    "\n",
    "A.update(B)                                               #joint A with B and B with A\n",
    "print(A) \n",
    "B.update(A)\n",
    "print(B)\n",
    "\n",
    "print(f\"symmetric difference:{A.symmetric_difference(B)}\") #symmetric difference\n",
    "A.clear()\n",
    "B.clear()\n",
    "print(f\"deleting both A and B: \", A.clear(), B.clear())    #delete set \n",
    "print(f\"The length of the list age:{len(age)}\")\n",
    "AgeSet=set(age)                                            #convert age to set and compare length of list and set\n",
    "print(f\"The length of the set age:{len(age)}\")\n"
   ]
  },
  {
   "cell_type": "code",
   "execution_count": null,
   "id": "f8f85606",
   "metadata": {},
   "outputs": [
    {
     "name": "stdout",
     "output_type": "stream",
     "text": [
      "radius of the circle is:  30\n",
      "area of circle:  2826.0\n",
      "circumference of circle:  188.4\n"
     ]
    }
   ],
   "source": [
    "#Question 5\n",
    "\n",
    "radius=30                                       #taking radius as per input\n",
    "print(f\"radius of the circle is: \", radius)\n",
    "area_of_circle=3.14*(radius**2)                 #area of circle                    \n",
    "circumference_of_circle=2*3.14*radius           #circumference of circle\n",
    "print(f\"area of circle: \", area_of_circle)\n",
    "print(f\"circumference of circle: \", circumference_of_circle)\n",
    "radius_input = int(input(\"enter radius\"))\n",
    "new_area = 3.14*radius_input*radius_input\n",
    "print(f\"Area from user input radius: \", new_area)\n"
   ]
  },
  {
   "cell_type": "code",
   "execution_count": 7,
   "id": "b07202fe",
   "metadata": {},
   "outputs": [
    {
     "name": "stdout",
     "output_type": "stream",
     "text": [
      "['I', 'am', 'a', 'teacher', 'and', 'I', 'love', 'to', 'inspire', 'and', 'teach', 'people']\n",
      "number of unique words in the given string:  10\n"
     ]
    }
   ],
   "source": [
    "#Question 6\n",
    "\n",
    "sentence = \"I am a teacher and I love to inspire and teach people\"\n",
    "list = sentence.split(' ')          #Split function by default uses whiteSpaces as the separator in the string sentence\n",
    "print(list)\n",
    "unique_words=len(set(list))                #number of unique words in given string\n",
    "print(f\"number of unique words in the given string: \",unique_words )"
   ]
  },
  {
   "cell_type": "code",
   "execution_count": 8,
   "id": "e8227608",
   "metadata": {},
   "outputs": [
    {
     "name": "stdout",
     "output_type": "stream",
     "text": [
      "Name\t\tAge\t\tCountry\t\tCity\n",
      "Asabeneh\t250\t\tFinland\t\tHelsinki\n"
     ]
    }
   ],
   "source": [
    "# Question 7\n",
    "\n",
    "\n",
    "print(\"Name\\t\\tAge\\t\\tCountry\\t\\tCity\\nAsabeneh\\t250\\t\\tFinland\\t\\tHelsinki\")\n"
   ]
  },
  {
   "cell_type": "code",
   "execution_count": 9,
   "id": "3b4a4892",
   "metadata": {},
   "outputs": [
    {
     "name": "stdout",
     "output_type": "stream",
     "text": [
      "The area of a circle with radius 10 is 314.0 meters square.\n"
     ]
    }
   ],
   "source": [
    "#Question 8\n",
    "\n",
    "\n",
    "radius = 10\n",
    "area = 3.14 * radius ** 2\n",
    "print(f\"The area of a circle with radius {radius} is {area} meters square.\")\n",
    "\n"
   ]
  },
  {
   "cell_type": "code",
   "execution_count": 10,
   "id": "6c7b8eb7",
   "metadata": {},
   "outputs": [
    {
     "name": "stdout",
     "output_type": "stream",
     "text": [
      "weight in kgs:  [68.0388, 70.30676, 65.77083999999999, 67.131616, 54.431039999999996, 58.96696, 45.3592]\n"
     ]
    }
   ],
   "source": [
    "#Question 9\n",
    "\n",
    "weight_lbs = [150, 155, 145, 148, 120, 130, 100]\n",
    "weight_kgs = []\n",
    "\n",
    "#converting weight to kgs\n",
    "for x in weight_lbs:\n",
    "    weight_kgs.append(x*0.453592)\n",
    "print(f\"weight in kgs: \",weight_kgs)"
   ]
  },
  {
   "cell_type": "code",
   "execution_count": null,
   "id": "7fb1d45f",
   "metadata": {},
   "outputs": [],
   "source": []
  },
  {
   "cell_type": "code",
   "execution_count": null,
   "id": "590aba90",
   "metadata": {},
   "outputs": [],
   "source": []
  },
  {
   "cell_type": "code",
   "execution_count": null,
   "id": "a9de8c46",
   "metadata": {},
   "outputs": [],
   "source": []
  },
  {
   "cell_type": "code",
   "execution_count": null,
   "id": "cd6d53a5",
   "metadata": {},
   "outputs": [],
   "source": []
  },
  {
   "cell_type": "code",
   "execution_count": null,
   "id": "8b981684",
   "metadata": {},
   "outputs": [],
   "source": []
  }
 ],
 "metadata": {
  "kernelspec": {
   "display_name": "Python 3 (ipykernel)",
   "language": "python",
   "name": "python3"
  },
  "language_info": {
   "codemirror_mode": {
    "name": "ipython",
    "version": 3
   },
   "file_extension": ".py",
   "mimetype": "text/x-python",
   "name": "python",
   "nbconvert_exporter": "python",
   "pygments_lexer": "ipython3",
   "version": "3.9.13"
  }
 },
 "nbformat": 4,
 "nbformat_minor": 5
}
